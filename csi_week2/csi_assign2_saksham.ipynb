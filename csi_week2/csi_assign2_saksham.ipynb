{
  "nbformat": 4,
  "nbformat_minor": 0,
  "metadata": {
    "colab": {
      "provenance": [],
      "authorship_tag": "ABX9TyO0E4+yR64w0AQGIkT/TTJp",
      "include_colab_link": true
    },
    "kernelspec": {
      "name": "python3",
      "display_name": "Python 3"
    },
    "language_info": {
      "name": "python"
    }
  },
  "cells": [
    {
      "cell_type": "markdown",
      "metadata": {
        "id": "view-in-github",
        "colab_type": "text"
      },
      "source": [
        "<a href=\"https://colab.research.google.com/github/skdzera/CSI_intern/blob/main/csi_assign2_saksham.ipynb\" target=\"_parent\"><img src=\"https://colab.research.google.com/assets/colab-badge.svg\" alt=\"Open In Colab\"/></a>"
      ]
    },
    {
      "cell_type": "markdown",
      "source": [
        "1. capitalize\n",
        "https://www.hackerrank.com/challenges/capitalize/problem?isFullScreen=true"
      ],
      "metadata": {
        "id": "RFXxqqONxph-"
      }
    },
    {
      "cell_type": "code",
      "source": [
        "#!/bin/python3\n",
        "\n",
        "import math\n",
        "import os\n",
        "import random\n",
        "import re\n",
        "import sys\n",
        "\n",
        "# Complete the solve function below.\n",
        "def solve(s):\n",
        "  x=[]\n",
        "  temp = s.split(\" \")\n",
        "  for t in temp:\n",
        "    x.append(t.capitalize())\n",
        "  return \" \".join(x)\n",
        "\n",
        "\n",
        "if __name__ == '__main__':\n",
        "    s = input()\n",
        "    result = solve(s)\n",
        "    print(result)\n"
      ],
      "metadata": {
        "colab": {
          "base_uri": "https://localhost:8080/"
        },
        "id": "XeSfCTC6xv2K",
        "outputId": "80f1adee-86e1-4c02-a738-dedcc3abe681"
      },
      "execution_count": null,
      "outputs": [
        {
          "output_type": "stream",
          "name": "stdout",
          "text": [
            "saksham garg\n",
            "Saksham Garg\n"
          ]
        }
      ]
    },
    {
      "cell_type": "markdown",
      "source": [
        "2. py introduction to sets - https://www.hackerrank.com/challenges/py-introduction-to-sets/problem?isFullScreen=true"
      ],
      "metadata": {
        "id": "v3H5qG0L0Tl1"
      }
    },
    {
      "cell_type": "code",
      "source": [
        "def average(array):\n",
        "    # your code goes here\n",
        "    return sum(set(array))/len(set(array))\n",
        "\n",
        "if __name__ == '__main__':\n",
        "    n = int(input())\n",
        "    arr = list(map(int, input().split()))\n",
        "    result = average(arr)\n",
        "    print(result)"
      ],
      "metadata": {
        "colab": {
          "base_uri": "https://localhost:8080/"
        },
        "id": "wDP4nqfc0T9c",
        "outputId": "1307e028-0f78-47b4-d36b-246315e99ff9"
      },
      "execution_count": null,
      "outputs": [
        {
          "output_type": "stream",
          "name": "stdout",
          "text": [
            "6\n",
            "23 456 455 44 33 445\n",
            "242.66666666666666\n"
          ]
        }
      ]
    },
    {
      "cell_type": "markdown",
      "source": [
        "3. Text Wrap - https://www.hackerrank.com/challenges/text-wrap/problem?isFullScreen=true"
      ],
      "metadata": {
        "id": "QyrAroh20UKp"
      }
    },
    {
      "cell_type": "code",
      "source": [
        "import textwrap\n",
        "def wrap(string, max_width):\n",
        "    wrapped = textwrap.wrap(string,max_width)\n",
        "\n",
        "    return \"\\n\".join(wrapped)\n",
        "\n",
        "\n",
        "if __name__ == '__main__':\n",
        "    string, max_width = input(), int(input())\n",
        "    result = wrap(string, max_width)\n",
        "    print(result)"
      ],
      "metadata": {
        "colab": {
          "base_uri": "https://localhost:8080/"
        },
        "id": "JnjyNT1A0UWv",
        "outputId": "8685861a-f8e4-4b34-b417-734eb672feb9"
      },
      "execution_count": null,
      "outputs": [
        {
          "output_type": "stream",
          "name": "stdout",
          "text": [
            "aabbccdddfs\n",
            "5\n",
            "aabbc\n",
            "cdddf\n",
            "s\n"
          ]
        }
      ]
    },
    {
      "cell_type": "markdown",
      "source": [
        "4. Alphabet Rangoli - https://www.hackerrank.com/challenges/alphabet-rangoli/problem?isFullScreen=true"
      ],
      "metadata": {
        "id": "85uZ51tv0Ujh"
      }
    },
    {
      "cell_type": "code",
      "source": [
        "def print_rangoli(size):\n",
        "\n",
        "    # your code goes here\n",
        "    letters = \"abcdefghijklmnopqrstuvwxyz\"\n",
        "\n",
        "    parts = []\n",
        "\n",
        "    for i in range(size):\n",
        "        left = letters[size-1:i:-1]\n",
        "        mid = letters[i]\n",
        "        right = letters[i+1:size]\n",
        "        row = '-'.join(left + mid + right)\n",
        "        width = 4 * size - 3\n",
        "        parts.append(row.center(width, '-'))\n",
        "\n",
        "    final = parts[::-1] + parts[1:]\n",
        "    print('\\n'.join(final))\n",
        "\n",
        "\n",
        "if __name__ == '__main__':\n",
        "    n = int(input())\n",
        "    print_rangoli(n)"
      ],
      "metadata": {
        "id": "d_jzQ0sO0Uvf",
        "colab": {
          "base_uri": "https://localhost:8080/"
        },
        "outputId": "8e2bf71f-32a5-4c28-c8a6-7bf1804dd0a2"
      },
      "execution_count": 17,
      "outputs": [
        {
          "output_type": "stream",
          "name": "stdout",
          "text": [
            "7\n",
            "------------g------------\n",
            "----------g-f-g----------\n",
            "--------g-f-e-f-g--------\n",
            "------g-f-e-d-e-f-g------\n",
            "----g-f-e-d-c-d-e-f-g----\n",
            "--g-f-e-d-c-b-c-d-e-f-g--\n",
            "g-f-e-d-c-b-a-b-c-d-e-f-g\n",
            "--g-f-e-d-c-b-c-d-e-f-g--\n",
            "----g-f-e-d-c-d-e-f-g----\n",
            "------g-f-e-d-e-f-g------\n",
            "--------g-f-e-f-g--------\n",
            "----------g-f-g----------\n",
            "------------g------------\n"
          ]
        }
      ]
    },
    {
      "cell_type": "markdown",
      "source": [
        "5. merge the tools - https://www.hackerrank.com/challenges/merge-the-tools/problem?isFullScreen=true"
      ],
      "metadata": {
        "id": "Kb0edTzx0U8z"
      }
    },
    {
      "cell_type": "code",
      "source": [
        "def merge_the_tools(string, k):\n",
        "    # your code goes here\n",
        "    t = len(string)\n",
        "    for i in range(0,t,k):\n",
        "        subs = string[i:i+k]\n",
        "        uq = \"\"\n",
        "        for char in subs:\n",
        "\n",
        "          if char not in uq:\n",
        "             uq += char\n",
        "        print(uq)\n",
        "\n",
        "\n",
        "if __name__ == '__main__':\n",
        "    string, k = input(), int(input())\n",
        "    merge_the_tools(string, k)"
      ],
      "metadata": {
        "colab": {
          "base_uri": "https://localhost:8080/"
        },
        "id": "nNrjB_7-0VJP",
        "outputId": "050adaa9-1122-42af-dec8-b25c63b77399"
      },
      "execution_count": null,
      "outputs": [
        {
          "output_type": "stream",
          "name": "stdout",
          "text": [
            "sdfdfdsfsdfs\n",
            "4\n",
            "sdf\n",
            "fds\n",
            "sdf\n"
          ]
        }
      ]
    },
    {
      "cell_type": "markdown",
      "source": [
        "6. Collections counter - https://www.hackerrank.com/challenges/collections-counter/problem?isFullScreen=true"
      ],
      "metadata": {
        "id": "q59_wAZc0VWc"
      }
    },
    {
      "cell_type": "code",
      "source": [
        "# Enter your code here. Read input from STDIN. Print output to STDOUT\n",
        "from collections import Counter\n",
        "x = int(input())\n",
        "size= list(map(int, input().split()))\n",
        "stock = Counter(size)\n",
        "n = int(input())\n",
        "\n",
        "earnings = 0\n",
        "\n",
        "for _ in range(n):\n",
        "    size,price = map(int,input().split())\n",
        "    if stock[size]>0:\n",
        "        earnings+=price\n",
        "        stock[size]-=1\n",
        "print(earnings)"
      ],
      "metadata": {
        "colab": {
          "base_uri": "https://localhost:8080/"
        },
        "id": "NVsrENqS0Vh-",
        "outputId": "84f205bf-2ddc-4915-9131-02308a45ccb0"
      },
      "execution_count": null,
      "outputs": [
        {
          "output_type": "stream",
          "name": "stdout",
          "text": [
            "10\n",
            "6 6 7 6 8 6 12 10 9 11\n",
            "7\n",
            "12 70\n",
            "11 50\n",
            "9 38\n",
            "6 36\n",
            "8 58\n",
            "10 45\n",
            "11 54\n",
            "297\n"
          ]
        }
      ]
    },
    {
      "cell_type": "markdown",
      "source": [
        "7. exceptions - https://www.hackerrank.com/challenges/exceptions/problem?isFullScreen=true"
      ],
      "metadata": {
        "id": "T0f3Qw1c0Vva"
      }
    },
    {
      "cell_type": "code",
      "source": [
        "n = int(input())\n",
        "\n",
        "for _ in range(n):\n",
        "    try:\n",
        "        a, b = input().split()\n",
        "        print(int(a) // int(b))\n",
        "    except ZeroDivisionError as e:\n",
        "        print(\"Error Code:\", e)\n",
        "    except ValueError as e:\n",
        "        print(\"Error Code:\", e)\n"
      ],
      "metadata": {
        "colab": {
          "base_uri": "https://localhost:8080/"
        },
        "id": "SrecH2K90V7I",
        "outputId": "e15d513a-8191-4060-bb8f-a70c269b1166"
      },
      "execution_count": null,
      "outputs": [
        {
          "output_type": "stream",
          "name": "stdout",
          "text": [
            "3\n",
            "1 0\n",
            "Error Code: integer division or modulo by zero\n",
            "4 5\n",
            "0\n",
            "4 #\n",
            "Error Code: invalid literal for int() with base 10: '#'\n"
          ]
        }
      ]
    },
    {
      "cell_type": "markdown",
      "source": [
        "8. Incorrect Regex - https://www.hackerrank.com/challenges/incorrect-regex/problem?isFullScreen=true"
      ],
      "metadata": {
        "id": "SwjWTppW0WHe"
      }
    },
    {
      "cell_type": "code",
      "source": [
        "import re\n",
        "\n",
        "n = int(input())\n",
        "\n",
        "for _ in range(n):\n",
        "    regex = input()\n",
        "    try:\n",
        "        re.compile(regex)\n",
        "        print('True')\n",
        "    except:\n",
        "        print('False')"
      ],
      "metadata": {
        "colab": {
          "base_uri": "https://localhost:8080/"
        },
        "id": "Zti8VFrx0WSt",
        "outputId": "12322541-bffb-441c-8d52-b97c6774c840"
      },
      "execution_count": null,
      "outputs": [
        {
          "output_type": "stream",
          "name": "stdout",
          "text": [
            "1\n",
            "./*+\n",
            "True\n"
          ]
        }
      ]
    },
    {
      "cell_type": "markdown",
      "source": [
        "10. set discard , remove , pop - https://www.hackerrank.com/challenges/py-set-discard-remove-pop/forum"
      ],
      "metadata": {
        "id": "Kf1jkxKc0Xv7"
      }
    },
    {
      "cell_type": "code",
      "source": [
        "n = int(input())\n",
        "numbers = sorted(set(map(int, input().split())))\n",
        "\n",
        "N = int(input())\n",
        "for _ in range(N):\n",
        "    cmd = input().split()\n",
        "    operation = cmd[0]\n",
        "\n",
        "    if operation == \"pop\":\n",
        "        if numbers:\n",
        "            numbers.pop(0)\n",
        "    elif operation == \"remove\":\n",
        "        try:\n",
        "            numbers.remove(int(cmd[1]))\n",
        "        except ValueError:\n",
        "            pass\n",
        "    elif operation == \"discard\":\n",
        "        if int(cmd[1]) in numbers:\n",
        "            numbers.remove(int(cmd[1]))\n",
        "\n",
        "print(sum(numbers))\n"
      ],
      "metadata": {
        "colab": {
          "base_uri": "https://localhost:8080/"
        },
        "id": "61tMLNZP0X8p",
        "outputId": "914c4133-4ef1-42ab-ca3a-aae76685991d"
      },
      "execution_count": null,
      "outputs": [
        {
          "output_type": "stream",
          "name": "stdout",
          "text": [
            "10\n",
            "1 4 11 3 5 6 7 9 12 16\n",
            "3\n",
            "pop \n",
            "remove 16\n",
            "discard 12\n",
            "45\n"
          ]
        }
      ]
    }
  ]
}