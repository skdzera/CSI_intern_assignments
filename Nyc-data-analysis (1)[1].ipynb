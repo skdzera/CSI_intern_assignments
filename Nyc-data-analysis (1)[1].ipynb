{
    "metadata": {
        "kernelspec": {
            "name": "SQL",
            "display_name": "SQL",
            "language": "sql"
        },
        "language_info": {
            "name": "sql",
            "version": ""
        },
        "application/vnd.databricks.v1+notebook": {
            "computePreferences": null,
            "dashboards": [],
            "environmentMetadata": {
                "base_environment": "",
                "environment_version": "1"
            },
            "inputWidgetPreferences": null,
            "language": "python",
            "notebookMetadata": {
                "pythonIndentUnit": 4
            },
            "notebookName": "Nyc-data-analysis",
            "widgets": {}
        }
    },
    "nbformat_minor": 2,
    "nbformat": 4,
    "cells": [
        {
            "cell_type": "code",
            "source": [
                "\n",
                "    # Step 1: Set Access Key in Spark Configuration\n",
                "spark.conf.set(\n",
                "    \"fs.azure.account.key.strgsk.blob.core.windows.net\",\n",
                "    \"+LOoFwx9bDT71IIpSIk0H6+C3Eclj2ZEfvzAGTPVoExZHTcUewPy/uQ0jqO9ExhY+I+jptSHh7+S+AStt20MQA==\"\n",
                ")\n",
                " \n",
                "# Step 2: Define file path (WASBS path)\n",
                "file_location = \"wasbs://week8container@strgsk.blob.core.windows.net/yellow-trip-data/nyc_tripdata_sample.csv\"\n",
                " \n",
                "# Step 3: Load CSV File\n",
                "df = spark.read.format(\"csv\") \\\n",
                "    .option(\"header\", \"true\") \\\n",
                "    .option(\"inferSchema\", \"true\") \\\n",
                "    .load(file_location)\n",
                " \n",
                "# Step 4: Display Data\n",
                "df.show(5)\n",
                "df.printSchema()"
            ],
            "metadata": {
                "application/vnd.databricks.v1+cell": {
                    "cellMetadata": {
                        "byteLimit": 2048000,
                        "rowLimit": 10000
                    },
                    "inputWidgets": {},
                    "nuid": "41c74522-e0b5-4f05-962d-20e0e0a535a7",
                    "showTitle": false,
                    "tableResultSettingsMap": {},
                    "title": ""
                },
                "azdata_cell_guid": "8d2f1053-4df4-48a6-bb0e-86e2a2e086f3",
                "language": "sql"
            },
            "outputs": [
                {
                    "output_type": "stream",
                    "name": "stdout",
                    "text": "+--------+--------------------+---------------------+---------------+-------------+----------+------------------+------------+------------+------------+-----------+-----+-------+----------+------------+---------------------+------------+\n|VendorID|tpep_pickup_datetime|tpep_dropoff_datetime|passenger_count|trip_distance|RatecodeID|store_and_fwd_flag|PULocationID|DOLocationID|payment_type|fare_amount|extra|mta_tax|tip_amount|tolls_amount|improvement_surcharge|total_amount|\n+--------+--------------------+---------------------+---------------+-------------+----------+------------------+------------+------------+------------+-----------+-----+-------+----------+------------+---------------------+------------+\n|       1| 2020-01-01 00:00:00|  2020-01-01 00:30:00|              1|         1.47|         1|                 Y|         165|          79|           1|       17.5| 0.74|   0.14|      2.84|        1.81|                 0.44|       23.47|\n|       2| 2020-01-01 01:00:00|  2020-01-01 01:30:00|              1|         5.78|         2|                 Y|         153|          58|           3|      43.32| 0.86|   0.41|     11.75|        3.62|                 0.17|       60.13|\n|       1| 2020-01-01 02:00:00|  2020-01-01 02:30:00|              3|         5.87|         2|                 Y|          76|          26|           4|       5.01| 1.69|   0.14|     10.73|         1.0|                 0.23|        18.8|\n|       1| 2020-01-01 03:00:00|  2020-01-01 03:30:00|              2|         6.74|         1|                 N|          87|         226|           2|        5.8| 0.54|   0.41|       8.9|        1.02|                 0.21|       16.88|\n|       1| 2020-01-01 04:00:00|  2020-01-01 04:30:00|              2|         7.53|         2|                 N|         117|         285|           5|      32.11| 0.31|   0.27|     13.44|        0.05|                 0.01|       46.19|\n+--------+--------------------+---------------------+---------------+-------------+----------+------------------+------------+------------+------------+-----------+-----+-------+----------+------------+---------------------+------------+\nonly showing top 5 rows\n\n"
                }
            ],
            "execution_count": null
        },
        {
            "cell_type": "markdown",
            "source": [
                "**Query 1** - <span style=\"color: rgb(75, 75, 75); font-family: Manrope, sans-serif; font-size: 13px; text-align: justify; background-color: rgb(255, 255, 255);\">Add a column named as \"\"Revenue\"\" into dataframe which is the sum of the below columns 'Fare_amount','Extra','MTA_tax','Improvement_surcharge','Tip_amount','Tolls_amount','Total_amount'</span>"
            ],
            "metadata": {
                "azdata_cell_guid": "50f5b4f6-2811-42fc-b5b5-6fb75b880c68"
            },
            "attachments": {}
        },
        {
            "cell_type": "code",
            "source": [
                "from pyspark.sql.functions import col, sum as _sum\n",
                "df = df.withColumn(\"Revenue\",\n",
                "    col(\"fare_amount\") +\n",
                "    col(\"extra\") +\n",
                "    col(\"mta_tax\") +\n",
                "    col(\"improvement_surcharge\") +\n",
                "    col(\"tip_amount\") +\n",
                "    col(\"tolls_amount\") +\n",
                "    col(\"total_amount\")\n",
                ")\n",
                "\n",
                "df.select(\"Revenue\", \"fare_amount\", \"extra\", \"mta_tax\", \"tip_amount\",\"tolls_amount\", \"total_amount\", ).show(5)\n",
                ""
            ],
            "metadata": {
                "application/vnd.databricks.v1+cell": {
                    "cellMetadata": {
                        "byteLimit": 2048000,
                        "rowLimit": 10000
                    },
                    "inputWidgets": {},
                    "nuid": "eee47284-6928-47b9-828e-6743dd67bfc6",
                    "showTitle": false,
                    "tableResultSettingsMap": {},
                    "title": ""
                },
                "azdata_cell_guid": "6d1f69ff-d3cf-4897-b737-608a5c968383",
                "language": "sql"
            },
            "outputs": [
                {
                    "output_type": "stream",
                    "name": "stdout",
                    "text": "+------------------+-----------+-----+-------+----------+------------+------------+\n|           Revenue|fare_amount|extra|mta_tax|tip_amount|tolls_amount|total_amount|\n+------------------+-----------+-----+-------+----------+------------+------------+\n|             46.94|       17.5| 0.74|   0.14|      2.84|        1.81|       23.47|\n|120.25999999999999|      43.32| 0.86|   0.41|     11.75|        3.62|       60.13|\n|              37.6|       5.01| 1.69|   0.14|     10.73|         1.0|        18.8|\n|             33.76|        5.8| 0.54|   0.41|       8.9|        1.02|       16.88|\n|             92.38|      32.11| 0.31|   0.27|     13.44|        0.05|       46.19|\n+------------------+-----------+-----+-------+----------+------------+------------+\nonly showing top 5 rows\n\n"
                }
            ],
            "execution_count": null
        },
        {
            "cell_type": "markdown",
            "source": [
                "**Query 2 -**  <span style=\"color: rgb(75, 75, 75); font-family: Manrope, sans-serif; font-size: 13px; text-align: justify; background-color: rgb(255, 255, 255);\">&nbsp;Increasing count of total passengers in New York City by area</span>"
            ],
            "metadata": {
                "azdata_cell_guid": "6d8a423f-8d93-4e21-9710-322347918880"
            },
            "attachments": {}
        },
        {
            "cell_type": "code",
            "source": [
                "df.groupBy(\"PULocationID\").agg(_sum(\"passenger_count\").alias(\"TotalPassengers\")).orderBy(\"TotalPassengers\", ascending=False).show(10)"
            ],
            "metadata": {
                "application/vnd.databricks.v1+cell": {
                    "cellMetadata": {
                        "byteLimit": 2048000,
                        "rowLimit": 10000
                    },
                    "inputWidgets": {},
                    "nuid": "0807df6a-fa3c-4119-a13d-5cd20a917d36",
                    "showTitle": false,
                    "tableResultSettingsMap": {},
                    "title": ""
                },
                "azdata_cell_guid": "1b8f7384-a222-44ec-a80a-9ba679b5f9e8",
                "language": "sql"
            },
            "outputs": [
                {
                    "output_type": "stream",
                    "name": "stdout",
                    "text": "+------------+---------------+\n|PULocationID|TotalPassengers|\n+------------+---------------+\n|         227|            600|\n|          59|            560|\n|          17|            520|\n|          98|            520|\n|          40|            440|\n|          29|            400|\n|         215|            400|\n|         108|            320|\n|         164|            320|\n|           3|            320|\n+------------+---------------+\nonly showing top 10 rows\n\n"
                }
            ],
            "execution_count": null
        },
        {
            "cell_type": "markdown",
            "source": [
                "<span style=\"color: rgb(75, 75, 75); font-family: Manrope, sans-serif; font-size: 13px; text-align: justify; background-color: rgb(255, 255, 255);\"><b>Query 3</b>. - Realtime Average fare/total earning amount earned by 2 vendors</span>"
            ],
            "metadata": {
                "azdata_cell_guid": "c8bf918a-2352-4452-8655-a6bb7fba609c"
            },
            "attachments": {}
        },
        {
            "cell_type": "code",
            "source": [
                "df.groupBy(\"VendorID\").agg({\"total_amount\": \"avg\"}).withColumnRenamed(\"avg(total_amount)\", \"AverageEarnings\").show()\n"
            ],
            "metadata": {
                "application/vnd.databricks.v1+cell": {
                    "cellMetadata": {
                        "byteLimit": 2048000,
                        "rowLimit": 10000
                    },
                    "inputWidgets": {},
                    "nuid": "b1c8fcd9-d93e-4491-be68-37157b698fda",
                    "showTitle": false,
                    "tableResultSettingsMap": {},
                    "title": ""
                },
                "azdata_cell_guid": "12d8b859-656d-4911-ace2-ce68df53f843",
                "language": "sql"
            },
            "outputs": [
                {
                    "output_type": "stream",
                    "name": "stdout",
                    "text": "+--------+------------------+\n|VendorID|   AverageEarnings|\n+--------+------------------+\n|       1| 39.20774834437135|\n|       2|38.514362416107296|\n+--------+------------------+\n\n"
                }
            ],
            "execution_count": null
        },
        {
            "cell_type": "markdown",
            "source": [
                "<span style=\"color: rgb(75, 75, 75); font-family: Manrope, sans-serif; font-size: 13px; text-align: justify; background-color: rgb(255, 255, 255);\"><b>Query 4. </b>- Moving Count of payments made by each payment mode</span>"
            ],
            "metadata": {
                "azdata_cell_guid": "599a9abf-31ec-4466-a77e-8c8c945d0dde"
            },
            "attachments": {}
        },
        {
            "cell_type": "code",
            "source": [
                "df.groupBy(\"payment_type\").count().orderBy(\"count\", ascending=False).show()\n"
            ],
            "metadata": {
                "application/vnd.databricks.v1+cell": {
                    "cellMetadata": {
                        "byteLimit": 2048000,
                        "rowLimit": 10000
                    },
                    "inputWidgets": {},
                    "nuid": "9057c327-8a3b-4c17-9995-fab9917f5268",
                    "showTitle": false,
                    "tableResultSettingsMap": {},
                    "title": ""
                },
                "azdata_cell_guid": "ce1ddfd5-ce80-42ad-a68b-dba75ca450e3",
                "language": "sql"
            },
            "outputs": [
                {
                    "output_type": "stream",
                    "name": "stdout",
                    "text": "+------------+-----+\n|payment_type|count|\n+------------+-----+\n|           4| 2720|\n|           2| 2640|\n|           5| 2400|\n|           1| 2240|\n|           3| 2000|\n+------------+-----+\n\n"
                }
            ],
            "execution_count": null
        },
        {
            "cell_type": "markdown",
            "source": [
                "<span style=\"color: rgb(75, 75, 75); font-family: Manrope, sans-serif; font-size: 13px; text-align: justify; background-color: rgb(255, 255, 255);\"><b>Query 5. </b>- Highest two gaining vendor's on a particular date with no of passenger and total distance by cab&nbsp;</span>"
            ],
            "metadata": {
                "language": "sql",
                "azdata_cell_guid": "77025cdb-d4db-4ab9-ba7e-8d854db7abec"
            },
            "attachments": {}
        },
        {
            "cell_type": "code",
            "source": [
                "from pyspark.sql.functions import to_date\n",
                "\n",
                "df_with_date = df.withColumn(\"trip_date\", to_date(\"tpep_pickup_datetime\"))\n",
                "df_with_date.groupBy(\"trip_date\", \"VendorID\").agg(\n",
                "    _sum(\"total_amount\").alias(\"TotalEarnings\"),\n",
                "    _sum(\"passenger_count\").alias(\"TotalPassengers\"),\n",
                "    _sum(\"trip_distance\").alias(\"TotalDistance\")\n",
                ").orderBy(\"TotalEarnings\", ascending=False).show(2)\n"
            ],
            "metadata": {
                "application/vnd.databricks.v1+cell": {
                    "cellMetadata": {
                        "byteLimit": 2048000,
                        "rowLimit": 10000
                    },
                    "inputWidgets": {},
                    "nuid": "a4be3dbb-6eab-47aa-b633-69d17c5e0cf0",
                    "showTitle": false,
                    "tableResultSettingsMap": {},
                    "title": ""
                },
                "azdata_cell_guid": "cc05866c-0b79-4acb-a5a1-0ad7cd471e7f",
                "language": "sql"
            },
            "outputs": [
                {
                    "output_type": "stream",
                    "name": "stdout",
                    "text": "+----------+--------+------------------+---------------+------------------+\n| trip_date|VendorID|     TotalEarnings|TotalPassengers|     TotalDistance|\n+----------+--------+------------------+---------------+------------------+\n|2020-01-11|       1| 28127.19999999997|           1760|3619.6000000000067|\n|2020-01-08|       1|27503.599999999973|           1560|3916.0000000000114|\n+----------+--------+------------------+---------------+------------------+\nonly showing top 2 rows\n\n"
                }
            ],
            "execution_count": null
        },
        {
            "cell_type": "markdown",
            "source": [
                "<span style=\"color: rgb(75, 75, 75); font-family: Manrope, sans-serif; font-size: 13px; text-align: justify; background-color: rgb(255, 255, 255);\"><b>Query 6</b>. - Most no of passenger between a route of two location.</span>"
            ],
            "metadata": {
                "language": "sql",
                "azdata_cell_guid": "e0b3e004-03b2-441a-8a27-65082dacbce8"
            },
            "attachments": {}
        },
        {
            "cell_type": "code",
            "source": [
                "df.groupBy(\"PULocationID\", \"DOLocationID\") \\\n",
                "  .agg(_sum(\"passenger_count\").alias(\"TotalPassengers\")) \\\n",
                "  .orderBy(\"TotalPassengers\", ascending=False).show(1)\n"
            ],
            "metadata": {
                "application/vnd.databricks.v1+cell": {
                    "cellMetadata": {
                        "byteLimit": 2048000,
                        "rowLimit": 10000
                    },
                    "inputWidgets": {},
                    "nuid": "216bdd05-e283-4954-9f8d-c44822730ef9",
                    "showTitle": false,
                    "tableResultSettingsMap": {},
                    "title": ""
                },
                "azdata_cell_guid": "647d1352-99e3-4a04-b7a9-950bd2b0b825",
                "language": "sql"
            },
            "outputs": [
                {
                    "output_type": "stream",
                    "name": "stdout",
                    "text": "+------------+------------+---------------+\n|PULocationID|DOLocationID|TotalPassengers|\n+------------+------------+---------------+\n|          57|          11|            160|\n+------------+------------+---------------+\nonly showing top 1 row\n\n"
                }
            ],
            "execution_count": null
        },
        {
            "cell_type": "markdown",
            "source": [
                "<span style=\"color: rgb(75, 75, 75); font-family: Manrope, sans-serif; font-size: 13px; text-align: justify; background-color: rgb(255, 255, 255);\"><b>Query 7. </b>- Get top pickup locations with most passengers in last 5/10 seconds.\"</span>"
            ],
            "metadata": {
                "language": "sql",
                "azdata_cell_guid": "d2bde53b-8f67-43c1-b0ee-4479f60650ce"
            },
            "attachments": {}
        },
        {
            "cell_type": "code",
            "source": [
                "latest_time = df.agg(max(\"tpep_pickup_datetime\")).first()[0]\n",
                "window_start = latest_time - expr(\"INTERVAL 10 seconds\")\n",
                "\n",
                "df.filter((col(\"tpep_pickup_datetime\") > window_start) & (col(\"tpep_pickup_datetime\") <= latest_time))\\\n",
                "  .groupBy(\"PULocationID\")\\\n",
                "  .agg(sum(\"passenger_count\").alias(\"Recent_Passengers\"))\\\n",
                "  .orderBy(desc(\"Recent_Passengers\"))\\\n",
                "  .show()"
            ],
            "metadata": {
                "application/vnd.databricks.v1+cell": {
                    "cellMetadata": {
                        "byteLimit": 2048000,
                        "rowLimit": 10000
                    },
                    "inputWidgets": {},
                    "nuid": "c54dc831-5e2d-45b1-95fe-306b1269f93e",
                    "showTitle": false,
                    "tableResultSettingsMap": {},
                    "title": ""
                },
                "azdata_cell_guid": "76fa152a-a0b8-4bdd-a25d-d8f11d1dac9f",
                "language": "sql"
            },
            "outputs": [
                {
                    "output_type": "stream",
                    "name": "stdout",
                    "text": "+------------+---------------+\n|PULocationID|TotalPassengers|\n+------------+---------------+\n|         134|             80|\n+------------+---------------+\n\n"
                }
            ],
            "execution_count": null
        },
        {
            "cell_type": "markdown",
            "source": [
                "**CSV to Paraquet in Blob Storage**"
            ],
            "metadata": {
                "azdata_cell_guid": "de4d465a-20f0-4c70-aa3a-3edf878d3821"
            },
            "attachments": {}
        },
        {
            "cell_type": "code",
            "source": [
                "output_path = \"wasbs://week8container@strgsk.blob.core.windows.net/output_parquet/\"\r\n",
                " \r\n",
                "df.write.mode(\"overwrite\").parquet(output_path)"
            ],
            "metadata": {
                "azdata_cell_guid": "a4333199-6249-4c3f-bc8a-981b4af44c1b",
                "language": "sql"
            },
            "outputs": [],
            "execution_count": null
        }
    ]
}