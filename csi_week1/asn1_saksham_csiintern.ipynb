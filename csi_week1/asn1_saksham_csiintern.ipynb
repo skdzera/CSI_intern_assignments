{
  "nbformat": 4,
  "nbformat_minor": 0,
  "metadata": {
    "colab": {
      "provenance": []
    },
    "kernelspec": {
      "name": "python3",
      "display_name": "Python 3"
    },
    "language_info": {
      "name": "python"
    }
  },
  "cells": [
    {
      "cell_type": "markdown",
      "source": [
        "1. https://celebaltech-my.sharepoint.com/personal/sanchit_govil_celebaltech_com/Documents/Microsoft%20Teams%20Chat%20Files/Sanchit_Govil_Utilization.xls?web=1  .\n",
        "\n",
        "**given link in assignment that is mentioned above isn't working i guess. so i searched the question according to assignment.showing this unable to login via any of microsoft account otherwise i got it on hackerrank.**\n",
        "\n",
        "https://www.hackerrank.com/challenges/py-if-else/problem\n"
      ],
      "metadata": {
        "id": "G1Vip0cOE3ei"
      }
    },
    {
      "cell_type": "code",
      "source": [
        "#!/bin/python3\n",
        "\n",
        "import math\n",
        "import os\n",
        "import random\n",
        "import re\n",
        "import sys\n",
        "\n",
        "if __name__ == '__main__':\n",
        "    n = int(input().strip())\n",
        "# n = int(input())\n",
        "if n % 2 == 0:\n",
        "    if n in range(2,6):\n",
        "        print(\"Not Weird\")\n",
        "\n",
        "    elif n in range(6,21):\n",
        "        print(\"Weird\")\n",
        "\n",
        "    elif n > 20:\n",
        "        print(\"Not Weird\")\n",
        "else:\n",
        "    print(\"Weird\")"
      ],
      "metadata": {
        "id": "hRhCMpx8Ivlc",
        "colab": {
          "base_uri": "https://localhost:8080/"
        },
        "outputId": "798c936b-e058-454c-c0fa-6597a06a1584"
      },
      "execution_count": null,
      "outputs": [
        {
          "output_type": "stream",
          "name": "stdout",
          "text": [
            "35\n",
            "Weird\n"
          ]
        }
      ]
    },
    {
      "cell_type": "markdown",
      "source": [
        "2.  Uses conditional statements (if-elif-else) to make decisions based on input values. python-arithmetic-operators: Involves performing basic mathematical operations like addition, subtraction, multiplication, and division.\n",
        "https://www.hackerrank.com/challenges/python-arithmetic-operators/problem?isFullScreen=true"
      ],
      "metadata": {
        "id": "lYDFv-nYI3RT"
      }
    },
    {
      "cell_type": "code",
      "source": [
        "if __name__ == '__main__':\n",
        "    a = int(input())\n",
        "    b = int(input())\n",
        "\n",
        "p = a + b\n",
        "q = a - b\n",
        "r = a*b\n",
        "print(p)\n",
        "print(q)\n",
        "print(r)"
      ],
      "metadata": {
        "id": "e2elZFe9KEtl"
      },
      "execution_count": null,
      "outputs": []
    },
    {
      "cell_type": "markdown",
      "source": [
        "3. compress-the-string: Compresses a string by counting consecutive characters, often using itertools.groupby().\n",
        "https://www.hackerrank.com/challenges/compress-the-string/problem?isFullScreen=true"
      ],
      "metadata": {
        "id": "AsdZZ2-7Koyk"
      }
    },
    {
      "cell_type": "code",
      "source": [
        "from itertools import groupby as gb\n",
        "sequence = input(\"Enter a sequence of digits: \")\n",
        "# Loop within the each group of same digit\n",
        "for digit, group in gb(sequence):\n",
        "    count = len(list(group))\n",
        "    digit_int = int(digit)\n",
        "    print((count, digit_int), end=' ')\n"
      ],
      "metadata": {
        "id": "BTI1b00EKpLu",
        "colab": {
          "base_uri": "https://localhost:8080/"
        },
        "outputId": "00d9df9e-67cb-4dc1-f2f5-1e797b237435"
      },
      "execution_count": null,
      "outputs": [
        {
          "output_type": "stream",
          "name": "stdout",
          "text": [
            "Enter a sequence of digits: 2455433\n",
            "(1, 2) (1, 4) (2, 5) (1, 4) (2, 3) "
          ]
        }
      ]
    },
    {
      "cell_type": "markdown",
      "source": [
        "4. the-minion-game: A string game where players earn points by forming substrings starting with vowels or consonants.\n",
        "https://www.hackerrank.com/challenges/the-minion-game/problem?isFullScreen=true"
      ],
      "metadata": {
        "id": "PnL7k8DRKpuN"
      }
    },
    {
      "cell_type": "code",
      "source": [
        "def minion_game(string):\n",
        "    string = string.upper()  # Ensure uniform case\n",
        "    vow = 'AEIOU'\n",
        "    k_s = 0  # Kevin's score\n",
        "    s_s = 0  # Stuart's score\n",
        "    n = len(string)\n",
        "\n",
        "    for i in range(n):\n",
        "        if string[i] in vow:\n",
        "            k_s += n - i\n",
        "        else:\n",
        "            s_s += n - i\n",
        "\n",
        "    if k_s > s_s:\n",
        "        print(\"Kevin\", k_s)\n",
        "    elif s_s > k_s:\n",
        "        print(\"Stuart\", s_s)\n",
        "    else:\n",
        "        print(\"Draw\")\n",
        "\n",
        "if __name__ == '__main__':\n",
        "    s = input(\"Enter a string in UPPERCASE: \")\n",
        "    minion_game(s)\n"
      ],
      "metadata": {
        "id": "zbc5dlzQKqBI",
        "colab": {
          "base_uri": "https://localhost:8080/"
        },
        "outputId": "e5e37f47-420b-4083-815c-3291927d8c13"
      },
      "execution_count": null,
      "outputs": [
        {
          "output_type": "stream",
          "name": "stdout",
          "text": [
            "Enter a string in UPPERCASE: banana\n",
            "Stuart 12\n"
          ]
        }
      ]
    },
    {
      "cell_type": "markdown",
      "source": [
        "5. write-a-function: Teaches how to define reusable blocks of code using the def keyword.  \n",
        "\n",
        "\n",
        "https://www.hackerrank.com/challenges/write-a-function/problem?isFullScreen=true"
      ],
      "metadata": {
        "id": "Ey0q1PyUKqPh"
      }
    },
    {
      "cell_type": "code",
      "source": [
        "def is_leap(year):\n",
        "\n",
        "    leap = False\n",
        "\n",
        "    if year % 4 == 0:\n",
        "        if year % 100 != 0 or year % 400 == 0:\n",
        "            leap = True\n",
        "\n",
        "    return leap\n",
        "\n",
        "year = int(input())\n",
        "print(is_leap(year))"
      ],
      "metadata": {
        "id": "7fYGKt_hKqb0",
        "colab": {
          "base_uri": "https://localhost:8080/"
        },
        "outputId": "63e6acef-af49-4729-ce7a-dc499e3b3153"
      },
      "execution_count": null,
      "outputs": [
        {
          "output_type": "stream",
          "name": "stdout",
          "text": [
            "2100\n",
            "False\n"
          ]
        }
      ]
    },
    {
      "cell_type": "markdown",
      "source": [
        "6. word-order: Counts and displays the number of occurrences of each word while preserving their input order.\n",
        "**Big%20data.xlsx  this link is given in assignment . i think it might be mistakenly put there.**\n",
        "\n",
        "**so i search it up and i got same problem name as \"word - order\". i will be putting that solution in this question.**\n",
        "https://www.hackerrank.com/challenges/word-order/problem\n"
      ],
      "metadata": {
        "id": "eQ4Y_2j0KqpN"
      }
    },
    {
      "cell_type": "code",
      "source": [
        "\n",
        "if __name__ == '__main__':\n",
        "    n = int(input())\n",
        "    word_occ = {}\n",
        "    for _ in range(n):\n",
        "        word = str(input())\n",
        "\n",
        "        if word not in word_occ:\n",
        "            word_occ[word] = 1\n",
        "        else:\n",
        "            word_occ[word] += 1\n",
        "\n",
        "    print(len(word_occ.keys()))\n",
        "    print(*word_occ.values())"
      ],
      "metadata": {
        "id": "mBFdOTgGKq2v",
        "colab": {
          "base_uri": "https://localhost:8080/"
        },
        "outputId": "14eed9c7-db99-4e74-cbba-266313437347"
      },
      "execution_count": null,
      "outputs": [
        {
          "output_type": "stream",
          "name": "stdout",
          "text": [
            "4\n",
            "abba\n",
            "bba\n",
            "bbba\n",
            "abba\n",
            "3\n",
            "2 1 1\n"
          ]
        }
      ]
    },
    {
      "cell_type": "markdown",
      "source": [
        "7.iterables-and-iterators: Works with iterators and combinations to solve problems involving sequences and probabilities.\n",
        "https://www.hackerrank.com/challenges/iterables-and-iterators/problem?isFullScreen=true"
      ],
      "metadata": {
        "id": "Y8HziuFZKrEJ"
      }
    },
    {
      "cell_type": "code",
      "source": [
        "from itertools import combinations\n",
        "\n",
        "n = int(input())\n",
        "words = input().split()\n",
        "k = int(input())\n",
        "\n",
        "all_combos = list(combinations(words, k))\n",
        "total = len(all_combos)\n",
        "count = 0\n",
        "\n",
        "for combo in all_combos:\n",
        "    if 'a' in combo:\n",
        "        count += 1\n",
        "\n",
        "print(count / total)\n"
      ],
      "metadata": {
        "id": "gp1dpWjgKrRO",
        "colab": {
          "base_uri": "https://localhost:8080/"
        },
        "outputId": "9640d56b-fe52-4496-ea61-a6d6326d0d2b"
      },
      "execution_count": null,
      "outputs": [
        {
          "output_type": "stream",
          "name": "stdout",
          "text": [
            "5 \n",
            "a b b c a\n",
            "2\n",
            "0.7\n"
          ]
        }
      ]
    },
    {
      "cell_type": "markdown",
      "source": [
        "8.  python-tuples: Introduces immutable sequences and their use in operations like hashing.\n",
        "https://www.hackerrank.com/challenges/python-tuples/problem?isFullScreen=true"
      ],
      "metadata": {
        "id": "AweqAndUKrmi"
      }
    },
    {
      "cell_type": "code",
      "source": [
        "if __name__ == '__main__':\n",
        "    n = int(input())\n",
        "    integer_list = map(int, input().split())\n",
        "    t=tuple(integer_list)\n",
        "    print(hash(t))"
      ],
      "metadata": {
        "id": "lCx061FdKry8",
        "colab": {
          "base_uri": "https://localhost:8080/"
        },
        "outputId": "686f09e9-ed37-4459-aca4-6f7dde2254f0"
      },
      "execution_count": null,
      "outputs": [
        {
          "output_type": "stream",
          "name": "stdout",
          "text": [
            "2\n",
            "1 2\n",
            "-3550055125485641917\n"
          ]
        }
      ]
    },
    {
      "cell_type": "markdown",
      "source": [
        "9. finding-the-percentage: Calculates and formats the average marks of a student from a given dataset.\n",
        "https://www.hackerrank.com/challenges/finding-the-percentage/problem?isFullScreen=true"
      ],
      "metadata": {
        "id": "wwteZyzzh9M-"
      }
    },
    {
      "cell_type": "code",
      "source": [
        "if __name__ == '__main__':\n",
        "    n = int(input())\n",
        "    student_marks = {}\n",
        "    for _ in range(n):\n",
        "        name, *line = input().split()\n",
        "        scores = list(map(float, line))\n",
        "        student_marks[name] = scores\n",
        "    query_name = input()\n",
        "    avg = sum(student_marks[query_name]) / len(student_marks[query_name])\n",
        "    print(f\"{avg:.2f}\")"
      ],
      "metadata": {
        "id": "sTYeDDb0h9pR",
        "colab": {
          "base_uri": "https://localhost:8080/"
        },
        "outputId": "64e22ae4-d6c7-4fdb-afef-0601687b112f"
      },
      "execution_count": null,
      "outputs": [
        {
          "output_type": "stream",
          "name": "stdout",
          "text": [
            "3\n",
            "Krishana 45 56 23 45 \n",
            "rahul 15 34 45 38\n",
            "harsh 45 24 32 36\n",
            "rahul\n",
            "33.00\n"
          ]
        }
      ]
    },
    {
      "cell_type": "markdown",
      "source": [
        "10. python-string-formatting: Demonstrates ways to format and align strings and numbers for clean output.\n",
        "https://www.hackerrank.com/challenges/python-string-formatting/problem?isFullScreen=true"
      ],
      "metadata": {
        "id": "7S-ZtSi9iEA6"
      }
    },
    {
      "cell_type": "code",
      "source": [
        "def print_formatted(number):\n",
        "    l = len(bin(number)[2:])\n",
        "    for i in range(1, number + 1):\n",
        "        dec = str(i)\n",
        "        octal = oct(i)[2:]\n",
        "        hexadec = hex(i)[2:].upper()\n",
        "        binary = bin(i)[2:]\n",
        "        print(dec.rjust(l), octal.rjust(l), hexadec.rjust(l), binary.rjust(l))\n",
        "\n",
        "\n",
        "\n",
        "if __name__ == '__main__':\n",
        "    n = int(input())\n",
        "    print_formatted(n)"
      ],
      "metadata": {
        "id": "VN0cHk0biEQE",
        "colab": {
          "base_uri": "https://localhost:8080/"
        },
        "outputId": "a198e61f-a449-4dff-b727-ebcdf1e9d651"
      },
      "execution_count": null,
      "outputs": [
        {
          "output_type": "stream",
          "name": "stdout",
          "text": [
            "2\n",
            " 1  1  1  1\n",
            " 2  2  2 10\n"
          ]
        }
      ]
    }
  ]
}